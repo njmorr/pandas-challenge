{
 "cells": [
  {
   "cell_type": "markdown",
   "metadata": {},
   "source": [
    "### Note\n",
    "* Instructions have been included for each segment. You do not have to follow them exactly, but they are included to help you think through the steps."
   ]
  },
  {
   "cell_type": "code",
   "execution_count": 1,
   "metadata": {},
   "outputs": [],
   "source": [
    "# Dependencies and Setup\n",
    "import pandas as pd"
   ]
  },
  {
   "cell_type": "code",
   "execution_count": 2,
   "metadata": {},
   "outputs": [],
   "source": [
    "# File to Load (Remember to Change These)\n",
    "school_data_to_load = \"Resources/schools_complete.csv\"\n",
    "student_data_to_load = \"Resources/students_complete.csv\""
   ]
  },
  {
   "cell_type": "code",
   "execution_count": 3,
   "metadata": {},
   "outputs": [],
   "source": [
    "# Read School and Student Data File and store into Pandas DataFrames\n",
    "school_data = pd.read_csv(school_data_to_load)\n",
    "student_data = pd.read_csv(student_data_to_load)"
   ]
  },
  {
   "cell_type": "code",
   "execution_count": 4,
   "metadata": {},
   "outputs": [
    {
     "data": {
      "text/html": [
       "<div>\n",
       "<style scoped>\n",
       "    .dataframe tbody tr th:only-of-type {\n",
       "        vertical-align: middle;\n",
       "    }\n",
       "\n",
       "    .dataframe tbody tr th {\n",
       "        vertical-align: top;\n",
       "    }\n",
       "\n",
       "    .dataframe thead th {\n",
       "        text-align: right;\n",
       "    }\n",
       "</style>\n",
       "<table border=\"1\" class=\"dataframe\">\n",
       "  <thead>\n",
       "    <tr style=\"text-align: right;\">\n",
       "      <th></th>\n",
       "      <th>Student ID</th>\n",
       "      <th>student_name</th>\n",
       "      <th>gender</th>\n",
       "      <th>grade</th>\n",
       "      <th>school_name</th>\n",
       "      <th>reading_score</th>\n",
       "      <th>math_score</th>\n",
       "      <th>School ID</th>\n",
       "      <th>type</th>\n",
       "      <th>size</th>\n",
       "      <th>budget</th>\n",
       "    </tr>\n",
       "  </thead>\n",
       "  <tbody>\n",
       "    <tr>\n",
       "      <th>0</th>\n",
       "      <td>0</td>\n",
       "      <td>Paul Bradley</td>\n",
       "      <td>M</td>\n",
       "      <td>9th</td>\n",
       "      <td>Huang High School</td>\n",
       "      <td>66</td>\n",
       "      <td>79</td>\n",
       "      <td>0</td>\n",
       "      <td>District</td>\n",
       "      <td>2917</td>\n",
       "      <td>1910635</td>\n",
       "    </tr>\n",
       "    <tr>\n",
       "      <th>1</th>\n",
       "      <td>1</td>\n",
       "      <td>Victor Smith</td>\n",
       "      <td>M</td>\n",
       "      <td>12th</td>\n",
       "      <td>Huang High School</td>\n",
       "      <td>94</td>\n",
       "      <td>61</td>\n",
       "      <td>0</td>\n",
       "      <td>District</td>\n",
       "      <td>2917</td>\n",
       "      <td>1910635</td>\n",
       "    </tr>\n",
       "    <tr>\n",
       "      <th>2</th>\n",
       "      <td>2</td>\n",
       "      <td>Kevin Rodriguez</td>\n",
       "      <td>M</td>\n",
       "      <td>12th</td>\n",
       "      <td>Huang High School</td>\n",
       "      <td>90</td>\n",
       "      <td>60</td>\n",
       "      <td>0</td>\n",
       "      <td>District</td>\n",
       "      <td>2917</td>\n",
       "      <td>1910635</td>\n",
       "    </tr>\n",
       "    <tr>\n",
       "      <th>3</th>\n",
       "      <td>3</td>\n",
       "      <td>Dr. Richard Scott</td>\n",
       "      <td>M</td>\n",
       "      <td>12th</td>\n",
       "      <td>Huang High School</td>\n",
       "      <td>67</td>\n",
       "      <td>58</td>\n",
       "      <td>0</td>\n",
       "      <td>District</td>\n",
       "      <td>2917</td>\n",
       "      <td>1910635</td>\n",
       "    </tr>\n",
       "    <tr>\n",
       "      <th>4</th>\n",
       "      <td>4</td>\n",
       "      <td>Bonnie Ray</td>\n",
       "      <td>F</td>\n",
       "      <td>9th</td>\n",
       "      <td>Huang High School</td>\n",
       "      <td>97</td>\n",
       "      <td>84</td>\n",
       "      <td>0</td>\n",
       "      <td>District</td>\n",
       "      <td>2917</td>\n",
       "      <td>1910635</td>\n",
       "    </tr>\n",
       "  </tbody>\n",
       "</table>\n",
       "</div>"
      ],
      "text/plain": [
       "   Student ID       student_name gender grade        school_name  \\\n",
       "0           0       Paul Bradley      M   9th  Huang High School   \n",
       "1           1       Victor Smith      M  12th  Huang High School   \n",
       "2           2    Kevin Rodriguez      M  12th  Huang High School   \n",
       "3           3  Dr. Richard Scott      M  12th  Huang High School   \n",
       "4           4         Bonnie Ray      F   9th  Huang High School   \n",
       "\n",
       "   reading_score  math_score  School ID      type  size   budget  \n",
       "0             66          79          0  District  2917  1910635  \n",
       "1             94          61          0  District  2917  1910635  \n",
       "2             90          60          0  District  2917  1910635  \n",
       "3             67          58          0  District  2917  1910635  \n",
       "4             97          84          0  District  2917  1910635  "
      ]
     },
     "execution_count": 4,
     "metadata": {},
     "output_type": "execute_result"
    }
   ],
   "source": [
    "# Combine the data into a single dataset.  \n",
    "school_data_complete = pd.merge(student_data, school_data, how=\"left\", on=[\"school_name\", \"school_name\"])\n",
    "school_data_complete.head()"
   ]
  },
  {
   "cell_type": "markdown",
   "metadata": {},
   "source": [
    "## District Summary\n",
    "\n",
    "* Calculate the total number of schools\n",
    "\n",
    "* Calculate the total number of students\n",
    "\n",
    "* Calculate the total budget\n",
    "\n",
    "* Calculate the average math score \n",
    "\n",
    "* Calculate the average reading score\n",
    "\n",
    "* Calculate the percentage of students with a passing math score (70 or greater)\n",
    "\n",
    "* Calculate the percentage of students with a passing reading score (70 or greater)\n",
    "\n",
    "* Calculate the percentage of students who passed math **and** reading (% Overall Passing)\n",
    "\n",
    "* Create a dataframe to hold the above results\n",
    "\n",
    "* Optional: give the displayed data cleaner formatting"
   ]
  },
  {
   "cell_type": "code",
   "execution_count": 5,
   "metadata": {},
   "outputs": [],
   "source": [
    "total_schools = len(school_data_complete[\"school_name\"].unique())\n",
    "# print(total_schools)\n",
    "\n",
    "total_budget = school_data_complete[\"budget\"].unique().sum()\n",
    "# (total_budget)\n",
    "\n",
    "total_students = school_data_complete[\"student_name\"].count()\n",
    "# print(total_students)\n",
    "\n",
    "average_math = school_data_complete[\"math_score\"].mean()\n",
    "# print(average_math)\n",
    "\n",
    "average_reading = school_data_complete[\"reading_score\"].mean()\n",
    "# print(average_reading)\n",
    "\n",
    "math_passing_df = school_data_complete.loc[school_data_complete[\"math_score\"] >= 70,:]\n",
    "math_passing_count = math_passing_df[\"math_score\"].count()\n",
    "math_passing = math_passing_count/total_students*100\n",
    "# print(math_passing)\n",
    "\n",
    "reading_passing_df = school_data_complete.loc[school_data_complete[\"reading_score\"] >= 70,:]\n",
    "reading_passing_count = reading_passing_df[\"reading_score\"].count()\n",
    "reading_passing = reading_passing_count/total_students*100\n",
    "# print(reading_passing)\n",
    "\n",
    "passing_df = school_data_complete.loc[(school_data_complete[\"math_score\"] >= 70) & (school_data_complete[\"reading_score\"] >= 70),:]\n",
    "passing_count = passing_df[\"reading_score\"].count()\n",
    "passing = passing_count/total_students*10\n",
    "# passing_df"
   ]
  },
  {
   "cell_type": "code",
   "execution_count": 6,
   "metadata": {},
   "outputs": [
    {
     "data": {
      "text/html": [
       "<div>\n",
       "<style scoped>\n",
       "    .dataframe tbody tr th:only-of-type {\n",
       "        vertical-align: middle;\n",
       "    }\n",
       "\n",
       "    .dataframe tbody tr th {\n",
       "        vertical-align: top;\n",
       "    }\n",
       "\n",
       "    .dataframe thead th {\n",
       "        text-align: right;\n",
       "    }\n",
       "</style>\n",
       "<table border=\"1\" class=\"dataframe\">\n",
       "  <thead>\n",
       "    <tr style=\"text-align: right;\">\n",
       "      <th></th>\n",
       "      <th>Total Schools</th>\n",
       "      <th>Total Students</th>\n",
       "      <th>Total Budget</th>\n",
       "      <th>Average Math Score</th>\n",
       "      <th>Average Reading Score</th>\n",
       "      <th>% Passing Math</th>\n",
       "      <th>% Passing Reading</th>\n",
       "      <th>% Overall Passing</th>\n",
       "    </tr>\n",
       "  </thead>\n",
       "  <tbody>\n",
       "    <tr>\n",
       "      <th>0</th>\n",
       "      <td>15</td>\n",
       "      <td>39,170</td>\n",
       "      <td>$24,649,428</td>\n",
       "      <td>78.985371</td>\n",
       "      <td>81.87784</td>\n",
       "      <td>74.980853</td>\n",
       "      <td>85.805463</td>\n",
       "      <td>6.517233</td>\n",
       "    </tr>\n",
       "  </tbody>\n",
       "</table>\n",
       "</div>"
      ],
      "text/plain": [
       "   Total Schools Total Students Total Budget  Average Math Score  \\\n",
       "0             15         39,170  $24,649,428           78.985371   \n",
       "\n",
       "   Average Reading Score  % Passing Math  % Passing Reading  % Overall Passing  \n",
       "0               81.87784       74.980853          85.805463           6.517233  "
      ]
     },
     "execution_count": 6,
     "metadata": {},
     "output_type": "execute_result"
    }
   ],
   "source": [
    "district_summary = pd.DataFrame({\"Total Schools\":[total_schools],\"Total Students\":total_students,\n",
    "                                \"Total Budget\":total_budget,\"Average Math Score\":average_math,\n",
    "                                \"Average Reading Score\":average_reading, \"% Passing Math\":math_passing,\n",
    "                                \"% Passing Reading\": reading_passing, \"% Overall Passing\":passing})\n",
    "\n",
    "district_summary[\"Total Students\"] = district_summary[\"Total Students\"].map(\"{:,}\".format)\n",
    "district_summary[\"Total Budget\"] = district_summary[\"Total Budget\"].map(\"${:,}\".format)\n",
    "district_summary"
   ]
  },
  {
   "cell_type": "markdown",
   "metadata": {},
   "source": [
    "## School Summary"
   ]
  },
  {
   "cell_type": "markdown",
   "metadata": {},
   "source": [
    "* Create an overview table that summarizes key metrics about each school, including:\n",
    "  * School Name\n",
    "  * School Type\n",
    "  * Total Students\n",
    "  * Total School Budget\n",
    "  * Per Student Budget\n",
    "  * Average Math Score\n",
    "  * Average Reading Score\n",
    "  * % Passing Math\n",
    "  * % Passing Reading\n",
    "  * % Overall Passing (The percentage of students that passed math **and** reading.)\n",
    "  \n",
    "* Create a dataframe to hold the above results"
   ]
  },
  {
   "cell_type": "code",
   "execution_count": 7,
   "metadata": {},
   "outputs": [],
   "source": [
    "schools = school_data_complete.groupby([\"school_name\"])\n",
    "\n",
    "school_type = schools[\"type\"].unique()\n",
    "school_type = school_type.str[0]\n",
    "# print(school_type)\n",
    "\n",
    "student_count = schools[\"reading_score\"].count()\n",
    "# print(student_count)\n",
    "\n",
    "school_budget = schools[\"budget\"].unique()\n",
    "school_budget = school_budget.str[0]\n",
    "# print(school_budget)\n",
    "\n",
    "budget_per = school_budget/student_count\n",
    "# print(budget_per)\n",
    "\n",
    "avg_math_school = schools[\"math_score\"].sum()/student_count\n",
    "# print(avg_math_school)\n",
    "\n",
    "avg_reading_school = schools[\"reading_score\"].sum()/student_count\n",
    "# print(avg_reading_school)\n",
    "\n",
    "math_passing_gb = math_passing_df.groupby([\"school_name\"])\n",
    "math_passing_per = math_passing_gb[\"math_score\"].count()/student_count*100\n",
    "# print(math_passing_per)\n",
    "\n",
    "reading_passing_gb = reading_passing_df.groupby([\"school_name\"])\n",
    "reading_passing_per = reading_passing_gb[\"reading_score\"].count()/student_count*100\n",
    "# print(reading_passing_per)\n",
    "\n",
    "passing_gb = passing_df.groupby([\"school_name\"])\n",
    "passing_per = passing_gb[\"reading_score\"].count()/student_count*100\n",
    "# passing_per"
   ]
  },
  {
   "cell_type": "code",
   "execution_count": 9,
   "metadata": {},
   "outputs": [
    {
     "data": {
      "text/plain": [
       "School Type               object\n",
       "Total Students             int64\n",
       "Total School Budget        int64\n",
       "Per Student Budget       float64\n",
       "Average Math Score       float64\n",
       "Average Reading Score    float64\n",
       "% Passing Math           float64\n",
       "% Passing Reading        float64\n",
       "% Overall Passing        float64\n",
       "dtype: object"
      ]
     },
     "execution_count": 9,
     "metadata": {},
     "output_type": "execute_result"
    }
   ],
   "source": [
    "school_summary = pd.DataFrame({\"School Type\":school_type,\"Total Students\":student_count,\n",
    "                                \"Total School Budget\":school_budget, \"Per Student Budget\":budget_per,\n",
    "                               \"Average Math Score\":avg_math_school,\"Average Reading Score\":avg_reading_school,\n",
    "                               \"% Passing Math\":math_passing_per,\"% Passing Reading\":reading_passing_per, \n",
    "                               \"% Overall Passing\":passing_per})\n",
    "\n",
    "school_summary_2 = school_summary\n",
    "school_summary_2.dtypes"
   ]
  },
  {
   "cell_type": "code",
   "execution_count": null,
   "metadata": {
    "scrolled": true
   },
   "outputs": [],
   "source": [
    "school_summary[\"Total Students\"] = pd.to_numeric(school_summary[\"Total Students\"]).map(\"{:,}\".format)\n",
    "school_summary[\"Total School Budget\"] = school_summary[\"Total School Budget\"].map(\"${:,.2f}\".format)\n",
    "school_summary[\"Per Student Budget\"] = school_summary[\"Per Student Budget\"].map(\"${:.2f}\".format)\n",
    "school_summary"
   ]
  },
  {
   "cell_type": "markdown",
   "metadata": {},
   "source": [
    "## Top Performing Schools (By % Overall Passing)"
   ]
  },
  {
   "cell_type": "markdown",
   "metadata": {},
   "source": [
    "* Sort and display the top five performing schools by % overall passing."
   ]
  },
  {
   "cell_type": "code",
   "execution_count": null,
   "metadata": {
    "scrolled": true
   },
   "outputs": [],
   "source": [
    "top_performing = school_summary.sort_values(\"% Overall Passing\", ascending=False)\n",
    "top_performing.head()"
   ]
  },
  {
   "cell_type": "markdown",
   "metadata": {},
   "source": [
    "## Bottom Performing Schools (By % Overall Passing)"
   ]
  },
  {
   "cell_type": "markdown",
   "metadata": {},
   "source": [
    "* Sort and display the five worst-performing schools by % overall passing."
   ]
  },
  {
   "cell_type": "code",
   "execution_count": null,
   "metadata": {},
   "outputs": [],
   "source": [
    "bottom_performing = school_summary.sort_values(\"% Overall Passing\", ascending=True)\n",
    "bottom_performing.head()"
   ]
  },
  {
   "cell_type": "markdown",
   "metadata": {
    "collapsed": true
   },
   "source": [
    "## Math Scores by Grade"
   ]
  },
  {
   "cell_type": "markdown",
   "metadata": {},
   "source": [
    "* Create a table that lists the average Reading Score for students of each grade level (9th, 10th, 11th, 12th) at each school.\n",
    "\n",
    "  * Create a pandas series for each grade. Hint: use a conditional statement.\n",
    "  \n",
    "  * Group each series by school\n",
    "  \n",
    "  * Combine the series into a dataframe\n",
    "  \n",
    "  * Optional: give the displayed data cleaner formatting"
   ]
  },
  {
   "cell_type": "code",
   "execution_count": null,
   "metadata": {},
   "outputs": [],
   "source": [
    "grade_nine = student_data.loc[(student_data[\"grade\"] == \"9th\")]\n",
    "grade_ten = student_data.loc[(student_data[\"grade\"] == \"10th\")]\n",
    "grade_eleven = student_data.loc[(student_data[\"grade\"] == \"11th\")]\n",
    "grade_twelve = student_data.loc[(student_data[\"grade\"] == \"12th\")]\n",
    "\n",
    "grade_nine_math = grade_nine.groupby([\"school_name\"]).mean()\n",
    "grade_nine_math_avg = grade_nine_math[\"math_score\"]\n",
    "#print(grade_nine_math_avg)\n",
    "\n",
    "grade_ten_math = grade_ten.groupby([\"school_name\"])\n",
    "grade_ten_math_avg = grade_ten_math[\"math_score\"].mean()\n",
    "# print(grade_ten_math_avg)\n",
    "\n",
    "grade_eleven_math = grade_eleven.groupby([\"school_name\"])\n",
    "grade_eleven_math_avg = grade_eleven_math[\"math_score\"].mean()\n",
    "# print(grade_eleven_math_avg)\n",
    "\n",
    "grade_twelve_math = grade_twelve.groupby([\"school_name\"])\n",
    "grade_twelve_math_avg = grade_twelve_math[\"math_score\"].mean()\n",
    "# print(grade_twelve_math_avg)"
   ]
  },
  {
   "cell_type": "code",
   "execution_count": null,
   "metadata": {},
   "outputs": [],
   "source": [
    "math_by_grade = pd.DataFrame({\"9th\":grade_nine_math_avg,\"10th\":grade_ten_math_avg,\n",
    "                                \"11th\":grade_eleven_math_avg, \"12th\":grade_twelve_math_avg})\n",
    "\n",
    "math_by_grade"
   ]
  },
  {
   "cell_type": "markdown",
   "metadata": {},
   "source": [
    "## Reading Score by Grade "
   ]
  },
  {
   "cell_type": "markdown",
   "metadata": {},
   "source": [
    "* Perform the same operations as above for reading scores"
   ]
  },
  {
   "cell_type": "code",
   "execution_count": null,
   "metadata": {},
   "outputs": [],
   "source": [
    "grade_nine_reading = grade_nine.groupby([\"school_name\"]).mean()\n",
    "grade_nine_reading_avg = grade_nine_reading[\"reading_score\"]\n",
    "\n",
    "grade_ten_reading = grade_ten.groupby([\"school_name\"])\n",
    "grade_ten_reading_avg = grade_ten_reading[\"reading_score\"].mean()\n",
    "\n",
    "grade_eleven_reading = grade_eleven.groupby([\"school_name\"])\n",
    "grade_eleven_reading_avg = grade_eleven_reading[\"reading_score\"].mean()\n",
    "\n",
    "grade_twelve_reading = grade_twelve.groupby([\"school_name\"])\n",
    "grade_twelve_reading_avg = grade_twelve_reading[\"reading_score\"].mean()"
   ]
  },
  {
   "cell_type": "code",
   "execution_count": null,
   "metadata": {},
   "outputs": [],
   "source": [
    "reading_by_grade = pd.DataFrame({\"9th\":grade_nine_reading_avg,\"10th\":grade_ten_reading_avg,\n",
    "                                \"11th\":grade_eleven_reading_avg, \"12th\":grade_twelve_reading_avg})\n",
    "\n",
    "reading_by_grade"
   ]
  },
  {
   "cell_type": "markdown",
   "metadata": {},
   "source": [
    "## Scores by School Spending"
   ]
  },
  {
   "cell_type": "markdown",
   "metadata": {},
   "source": [
    "* Create a table that breaks down school performances based on average Spending Ranges (Per Student). Use 4 reasonable bins to group school spending. Include in the table each of the following:\n",
    "  * Average Math Score\n",
    "  * Average Reading Score\n",
    "  * % Passing Math\n",
    "  * % Passing Reading\n",
    "  * Overall Passing Rate (Average of the above two)"
   ]
  },
  {
   "cell_type": "code",
   "execution_count": 11,
   "metadata": {},
   "outputs": [
    {
     "name": "stderr",
     "output_type": "stream",
     "text": [
      "C:\\Users\\SageTeam\\anaconda3\\envs\\PythonData\\lib\\site-packages\\ipykernel_launcher.py:6: SettingWithCopyWarning: \n",
      "A value is trying to be set on a copy of a slice from a DataFrame.\n",
      "Try using .loc[row_indexer,col_indexer] = value instead\n",
      "\n",
      "See the caveats in the documentation: https://pandas.pydata.org/pandas-docs/stable/user_guide/indexing.html#returning-a-view-versus-a-copy\n",
      "  \n"
     ]
    },
    {
     "data": {
      "text/html": [
       "<div>\n",
       "<style scoped>\n",
       "    .dataframe tbody tr th:only-of-type {\n",
       "        vertical-align: middle;\n",
       "    }\n",
       "\n",
       "    .dataframe tbody tr th {\n",
       "        vertical-align: top;\n",
       "    }\n",
       "\n",
       "    .dataframe thead th {\n",
       "        text-align: right;\n",
       "    }\n",
       "</style>\n",
       "<table border=\"1\" class=\"dataframe\">\n",
       "  <thead>\n",
       "    <tr style=\"text-align: right;\">\n",
       "      <th></th>\n",
       "      <th>Per Student Budget</th>\n",
       "      <th>Average Math Score</th>\n",
       "      <th>Average Reading Score</th>\n",
       "      <th>% Passing Math</th>\n",
       "      <th>% Passing Reading</th>\n",
       "      <th>% Overall Passing</th>\n",
       "    </tr>\n",
       "    <tr>\n",
       "      <th>Spending Ranges (Per Student)</th>\n",
       "      <th></th>\n",
       "      <th></th>\n",
       "      <th></th>\n",
       "      <th></th>\n",
       "      <th></th>\n",
       "      <th></th>\n",
       "    </tr>\n",
       "  </thead>\n",
       "  <tbody>\n",
       "    <tr>\n",
       "      <th>less than $600</th>\n",
       "      <td>584.80</td>\n",
       "      <td>83.436210</td>\n",
       "      <td>83.892196</td>\n",
       "      <td>93.541501</td>\n",
       "      <td>96.459627</td>\n",
       "      <td>90.273988</td>\n",
       "    </tr>\n",
       "    <tr>\n",
       "      <th>$600-$620</th>\n",
       "      <td>609.00</td>\n",
       "      <td>83.839917</td>\n",
       "      <td>84.044699</td>\n",
       "      <td>94.594595</td>\n",
       "      <td>95.945946</td>\n",
       "      <td>90.540541</td>\n",
       "    </tr>\n",
       "    <tr>\n",
       "      <th>$620-$640</th>\n",
       "      <td>633.40</td>\n",
       "      <td>79.474551</td>\n",
       "      <td>82.120471</td>\n",
       "      <td>77.139934</td>\n",
       "      <td>87.468080</td>\n",
       "      <td>68.476495</td>\n",
       "    </tr>\n",
       "    <tr>\n",
       "      <th>$640-$660</th>\n",
       "      <td>650.25</td>\n",
       "      <td>77.023555</td>\n",
       "      <td>80.957446</td>\n",
       "      <td>66.701010</td>\n",
       "      <td>80.675217</td>\n",
       "      <td>53.717613</td>\n",
       "    </tr>\n",
       "  </tbody>\n",
       "</table>\n",
       "</div>"
      ],
      "text/plain": [
       "                               Per Student Budget  Average Math Score  \\\n",
       "Spending Ranges (Per Student)                                           \n",
       "less than $600                             584.80           83.436210   \n",
       "$600-$620                                  609.00           83.839917   \n",
       "$620-$640                                  633.40           79.474551   \n",
       "$640-$660                                  650.25           77.023555   \n",
       "\n",
       "                               Average Reading Score  % Passing Math  \\\n",
       "Spending Ranges (Per Student)                                          \n",
       "less than $600                             83.892196       93.541501   \n",
       "$600-$620                                  84.044699       94.594595   \n",
       "$620-$640                                  82.120471       77.139934   \n",
       "$640-$660                                  80.957446       66.701010   \n",
       "\n",
       "                               % Passing Reading  % Overall Passing  \n",
       "Spending Ranges (Per Student)                                        \n",
       "less than $600                         96.459627          90.273988  \n",
       "$600-$620                              95.945946          90.540541  \n",
       "$620-$640                              87.468080          68.476495  \n",
       "$640-$660                              80.675217          53.717613  "
      ]
     },
     "execution_count": 11,
     "metadata": {},
     "output_type": "execute_result"
    }
   ],
   "source": [
    "bins_spending = [0,600,620,640,660]\n",
    "group_names_spending = [\"less than $600\",\"$600-$620\",\"$620-$640\",\"$640-$660\"]\n",
    "\n",
    "scores_by_spending = school_summary_2[[\"Per Student Budget\",\"Average Math Score\",\"Average Reading Score\",\"% Passing Math\",\"% Passing Reading\",\"% Overall Passing\"]]\n",
    "# scores_by_spending = scores_by_spending[\"Per Student Budget\"]\n",
    "scores_by_spending[\"Spending Ranges (Per Student)\"] = pd.cut(scores_by_spending[\"Per Student Budget\"], bins_spending, labels=group_names_spending, include_lowest=True)\n",
    "scores_by_spending = scores_by_spending.groupby(\"Spending Ranges (Per Student)\")\n",
    "scores_by_spending.mean()"
   ]
  },
  {
   "cell_type": "markdown",
   "metadata": {},
   "source": [
    "## Scores by School Size"
   ]
  },
  {
   "cell_type": "markdown",
   "metadata": {},
   "source": [
    "* Perform the same operations as above, based on school size."
   ]
  },
  {
   "cell_type": "code",
   "execution_count": 12,
   "metadata": {
    "scrolled": true
   },
   "outputs": [
    {
     "name": "stderr",
     "output_type": "stream",
     "text": [
      "C:\\Users\\SageTeam\\anaconda3\\envs\\PythonData\\lib\\site-packages\\ipykernel_launcher.py:5: SettingWithCopyWarning: \n",
      "A value is trying to be set on a copy of a slice from a DataFrame.\n",
      "Try using .loc[row_indexer,col_indexer] = value instead\n",
      "\n",
      "See the caveats in the documentation: https://pandas.pydata.org/pandas-docs/stable/user_guide/indexing.html#returning-a-view-versus-a-copy\n",
      "  \"\"\"\n"
     ]
    },
    {
     "data": {
      "text/html": [
       "<div>\n",
       "<style scoped>\n",
       "    .dataframe tbody tr th:only-of-type {\n",
       "        vertical-align: middle;\n",
       "    }\n",
       "\n",
       "    .dataframe tbody tr th {\n",
       "        vertical-align: top;\n",
       "    }\n",
       "\n",
       "    .dataframe thead th {\n",
       "        text-align: right;\n",
       "    }\n",
       "</style>\n",
       "<table border=\"1\" class=\"dataframe\">\n",
       "  <thead>\n",
       "    <tr style=\"text-align: right;\">\n",
       "      <th></th>\n",
       "      <th>Average Math Score</th>\n",
       "      <th>Average Reading Score</th>\n",
       "      <th>% Passing Math</th>\n",
       "      <th>% Passing Reading</th>\n",
       "      <th>% Overall Passing</th>\n",
       "    </tr>\n",
       "    <tr>\n",
       "      <th>Total Students</th>\n",
       "      <th></th>\n",
       "      <th></th>\n",
       "      <th></th>\n",
       "      <th></th>\n",
       "      <th></th>\n",
       "    </tr>\n",
       "  </thead>\n",
       "  <tbody>\n",
       "    <tr>\n",
       "      <th>Small (&lt;1000)</th>\n",
       "      <td>83.821598</td>\n",
       "      <td>83.929843</td>\n",
       "      <td>93.550225</td>\n",
       "      <td>96.099437</td>\n",
       "      <td>89.883853</td>\n",
       "    </tr>\n",
       "    <tr>\n",
       "      <th>Medium (1000-2000)</th>\n",
       "      <td>83.374684</td>\n",
       "      <td>83.864438</td>\n",
       "      <td>93.599695</td>\n",
       "      <td>96.790680</td>\n",
       "      <td>90.621535</td>\n",
       "    </tr>\n",
       "    <tr>\n",
       "      <th>Large (2000-5000)</th>\n",
       "      <td>77.746417</td>\n",
       "      <td>81.344493</td>\n",
       "      <td>69.963361</td>\n",
       "      <td>82.766634</td>\n",
       "      <td>58.286003</td>\n",
       "    </tr>\n",
       "  </tbody>\n",
       "</table>\n",
       "</div>"
      ],
      "text/plain": [
       "                    Average Math Score  Average Reading Score  % Passing Math  \\\n",
       "Total Students                                                                  \n",
       "Small (<1000)                83.821598              83.929843       93.550225   \n",
       "Medium (1000-2000)           83.374684              83.864438       93.599695   \n",
       "Large (2000-5000)            77.746417              81.344493       69.963361   \n",
       "\n",
       "                    % Passing Reading  % Overall Passing  \n",
       "Total Students                                            \n",
       "Small (<1000)               96.099437          89.883853  \n",
       "Medium (1000-2000)          96.790680          90.621535  \n",
       "Large (2000-5000)           82.766634          58.286003  "
      ]
     },
     "execution_count": 12,
     "metadata": {},
     "output_type": "execute_result"
    }
   ],
   "source": [
    "bins_size = [0,1000,2000,5000]\n",
    "group_names_size = [\"Small (<1000)\",\"Medium (1000-2000)\",\"Large (2000-5000)\"]\n",
    "\n",
    "scores_by_size = school_summary_2[[\"Total Students\",\"Average Math Score\",\"Average Reading Score\",\"% Passing Math\",\"% Passing Reading\",\"% Overall Passing\"]]\n",
    "scores_by_size[\"Total Students\"] = pd.cut(scores_by_size[\"Total Students\"], bins_size, labels=group_names_size, include_lowest=True)\n",
    "scores_by_size = scores_by_size.groupby(\"Total Students\")\n",
    "scores_by_size.mean()"
   ]
  },
  {
   "cell_type": "markdown",
   "metadata": {},
   "source": [
    "## Scores by School Type"
   ]
  },
  {
   "cell_type": "markdown",
   "metadata": {},
   "source": [
    "* Perform the same operations as above, based on school type"
   ]
  },
  {
   "cell_type": "code",
   "execution_count": null,
   "metadata": {},
   "outputs": [],
   "source": []
  },
  {
   "cell_type": "code",
   "execution_count": null,
   "metadata": {},
   "outputs": [],
   "source": []
  }
 ],
 "metadata": {
  "anaconda-cloud": {},
  "kernel_info": {
   "name": "python3"
  },
  "kernelspec": {
   "display_name": "Python 3",
   "language": "python",
   "name": "python3"
  },
  "language_info": {
   "codemirror_mode": {
    "name": "ipython",
    "version": 3
   },
   "file_extension": ".py",
   "mimetype": "text/x-python",
   "name": "python",
   "nbconvert_exporter": "python",
   "pygments_lexer": "ipython3",
   "version": "3.6.10"
  },
  "latex_envs": {
   "LaTeX_envs_menu_present": true,
   "autoclose": false,
   "autocomplete": true,
   "bibliofile": "biblio.bib",
   "cite_by": "apalike",
   "current_citInitial": 1,
   "eqLabelWithNumbers": true,
   "eqNumInitial": 1,
   "hotkeys": {
    "equation": "Ctrl-E",
    "itemize": "Ctrl-I"
   },
   "labels_anchors": false,
   "latex_user_defs": false,
   "report_style_numbering": false,
   "user_envs_cfg": false
  },
  "nteract": {
   "version": "0.8.4"
  }
 },
 "nbformat": 4,
 "nbformat_minor": 1
}
